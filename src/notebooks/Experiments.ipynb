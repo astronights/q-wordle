{
 "cells": [
  {
   "cell_type": "markdown",
   "id": "695aab19",
   "metadata": {},
   "source": [
    "# Wordle Reinforcement Experiments"
   ]
  },
  {
   "cell_type": "markdown",
   "id": "7cab54d3",
   "metadata": {},
   "source": [
    "## Imports and Config"
   ]
  },
  {
   "cell_type": "code",
   "execution_count": 1,
   "id": "1d16b050",
   "metadata": {},
   "outputs": [],
   "source": [
    "import sys\n",
    "sys.path.append('../..')"
   ]
  },
  {
   "cell_type": "code",
   "execution_count": 13,
   "id": "b564ced4",
   "metadata": {},
   "outputs": [],
   "source": [
    "import src.config as src_config\n",
    "from src.models import qlearn"
   ]
  },
  {
   "cell_type": "code",
   "execution_count": 3,
   "id": "be78d029",
   "metadata": {},
   "outputs": [],
   "source": [
    "import numpy as np\n",
    "import pandas as pd\n",
    "import matplotlib.pyplot as plt"
   ]
  },
  {
   "cell_type": "markdown",
   "id": "695bcc98",
   "metadata": {},
   "source": [
    "## Config Changes"
   ]
  },
  {
   "cell_type": "code",
   "execution_count": 4,
   "id": "ffe9294d",
   "metadata": {},
   "outputs": [],
   "source": [
    "epsilon = 0.8 #For epsilon greedy learning\n",
    "gamma = 0.6 #Discount factor\n",
    "alpha = 0.5 #Learning rate\n",
    "trials = 1000"
   ]
  },
  {
   "cell_type": "code",
   "execution_count": 5,
   "id": "8cd8a980",
   "metadata": {},
   "outputs": [],
   "source": [
    "# Rewards\n",
    "\n",
    "config.WIN_REWARD = 30\n",
    "config.LOSE_REWARD = -10\n",
    "config.GREEN_REWARD = 5\n",
    "config.YELLOW_REWARD = 3\n",
    "config.GREY_REWARD = -1"
   ]
  },
  {
   "cell_type": "markdown",
   "id": "c2f0219a",
   "metadata": {},
   "source": [
    "## Q - Learning"
   ]
  },
  {
   "cell_type": "code",
   "execution_count": 6,
   "id": "64a0fd0f",
   "metadata": {},
   "outputs": [],
   "source": [
    "config = {'epsilon': epsilon, 'gamma': gamma, 'alpha': alpha}\n",
    "qmodel = qlearn.QLearn(config)"
   ]
  },
  {
   "cell_type": "code",
   "execution_count": 7,
   "id": "8c1409cc",
   "metadata": {},
   "outputs": [
    {
     "name": "stderr",
     "output_type": "stream",
     "text": [
      "100%|████████████████████████████████████████████████████████████████████████████████████████████████████| 1000/1000 [18:19<00:00,  1.10s/it]\n"
     ]
    }
   ],
   "source": [
    "qmodel.train(trials)"
   ]
  },
  {
   "cell_type": "code",
   "execution_count": 8,
   "id": "4684d4a2",
   "metadata": {
    "scrolled": true
   },
   "outputs": [
    {
     "data": {
      "text/plain": [
       "Text(0.5, 1.0, 'Games solved: 165/1000')"
      ]
     },
     "execution_count": 8,
     "metadata": {},
     "output_type": "execute_result"
    },
    {
     "data": {
      "image/png": "[encoded data removed]",
      "text/plain": [
       "<Figure size 432x288 with 1 Axes>"
      ]
     },
     "metadata": {
      "needs_background": "light"
     },
     "output_type": "display_data"
    }
   ],
   "source": [
    "games_solved = qmodel.games_solved\n",
    "plt.plot(list(range(len(games_solved))), games_solved)\n",
    "plt.title(f'Games solved: {len(games_solved)}/{trials}')"
   ]
  },
  {
   "cell_type": "code",
   "execution_count": 16,
   "id": "983e81ea",
   "metadata": {},
   "outputs": [
    {
     "name": "stdout",
     "output_type": "stream",
     "text": [
      "Q values shape: (6, 6, 7, 4)\n"
     ]
    },
    {
     "data": {
      "text/html": [
       "<div>\n",
       "<style scoped>\n",
       "    .dataframe tbody tr th:only-of-type {\n",
       "        vertical-align: middle;\n",
       "    }\n",
       "\n",
       "    .dataframe tbody tr th {\n",
       "        vertical-align: top;\n",
       "    }\n",
       "\n",
       "    .dataframe thead tr th {\n",
       "        text-align: left;\n",
       "    }\n",
       "\n",
       "    .dataframe thead tr:last-of-type th {\n",
       "        text-align: right;\n",
       "    }\n",
       "</style>\n",
       "<table border=\"1\" class=\"dataframe\">\n",
       "  <thead>\n",
       "    <tr>\n",
       "      <th></th>\n",
       "      <th></th>\n",
       "      <th colspan=\"6\" halign=\"left\">Action</th>\n",
       "    </tr>\n",
       "    <tr>\n",
       "      <th></th>\n",
       "      <th>Game State</th>\n",
       "      <th>0</th>\n",
       "      <th>1</th>\n",
       "      <th>2</th>\n",
       "      <th>3</th>\n",
       "      <th>4</th>\n",
       "      <th>5</th>\n",
       "    </tr>\n",
       "    <tr>\n",
       "      <th># Green</th>\n",
       "      <th># Yellow</th>\n",
       "      <th></th>\n",
       "      <th></th>\n",
       "      <th></th>\n",
       "      <th></th>\n",
       "      <th></th>\n",
       "      <th></th>\n",
       "    </tr>\n",
       "  </thead>\n",
       "  <tbody>\n",
       "    <tr>\n",
       "      <th rowspan=\"5\" valign=\"top\">0</th>\n",
       "      <th>0</th>\n",
       "      <td>FreshLetters</td>\n",
       "      <td>HighestLLSmart</td>\n",
       "      <td>HighestLLSmart</td>\n",
       "      <td>FreshLetters</td>\n",
       "      <td>Random</td>\n",
       "      <td>HighestLL</td>\n",
       "    </tr>\n",
       "    <tr>\n",
       "      <th>1</th>\n",
       "      <td>Random</td>\n",
       "      <td>HighestLLSmart</td>\n",
       "      <td>HighestLLSmart</td>\n",
       "      <td>FreshLetters</td>\n",
       "      <td>HighestLLSmart</td>\n",
       "      <td>Random</td>\n",
       "    </tr>\n",
       "    <tr>\n",
       "      <th>2</th>\n",
       "      <td>Random</td>\n",
       "      <td>HighestLLSmart</td>\n",
       "      <td>HighestLLSmart</td>\n",
       "      <td>HighestLLSmart</td>\n",
       "      <td>HighestLLSmart</td>\n",
       "      <td>FreshLetters</td>\n",
       "    </tr>\n",
       "    <tr>\n",
       "      <th>3</th>\n",
       "      <td>Random</td>\n",
       "      <td>HighestLLSmart</td>\n",
       "      <td>HighestLL</td>\n",
       "      <td>Random</td>\n",
       "      <td>FreshLetters</td>\n",
       "      <td>FreshLetters</td>\n",
       "    </tr>\n",
       "    <tr>\n",
       "      <th>4</th>\n",
       "      <td>Random</td>\n",
       "      <td>Random</td>\n",
       "      <td>HighestLLSmart</td>\n",
       "      <td>HighestLLSmart</td>\n",
       "      <td>HighestLLSmart</td>\n",
       "      <td>HighestLLSmart</td>\n",
       "    </tr>\n",
       "    <tr>\n",
       "      <th rowspan=\"4\" valign=\"top\">1</th>\n",
       "      <th>0</th>\n",
       "      <td>Random</td>\n",
       "      <td>FreshLetters</td>\n",
       "      <td>HighestLLSmart</td>\n",
       "      <td>FreshLetters</td>\n",
       "      <td>HighestLLSmart</td>\n",
       "      <td>HighestLL</td>\n",
       "    </tr>\n",
       "    <tr>\n",
       "      <th>1</th>\n",
       "      <td>Random</td>\n",
       "      <td>HighestLLSmart</td>\n",
       "      <td>HighestLLSmart</td>\n",
       "      <td>HighestLLSmart</td>\n",
       "      <td>FreshLetters</td>\n",
       "      <td>FreshLetters</td>\n",
       "    </tr>\n",
       "    <tr>\n",
       "      <th>2</th>\n",
       "      <td>Random</td>\n",
       "      <td>HighestLLSmart</td>\n",
       "      <td>HighestLLSmart</td>\n",
       "      <td>HighestLLSmart</td>\n",
       "      <td>HighestLLSmart</td>\n",
       "      <td>HighestLLSmart</td>\n",
       "    </tr>\n",
       "    <tr>\n",
       "      <th>3</th>\n",
       "      <td>Random</td>\n",
       "      <td>HighestLL</td>\n",
       "      <td>HighestLLSmart</td>\n",
       "      <td>HighestLLSmart</td>\n",
       "      <td>HighestLLSmart</td>\n",
       "      <td>HighestLLSmart</td>\n",
       "    </tr>\n",
       "    <tr>\n",
       "      <th rowspan=\"3\" valign=\"top\">2</th>\n",
       "      <th>0</th>\n",
       "      <td>Random</td>\n",
       "      <td>HighestLL</td>\n",
       "      <td>HighestLLSmart</td>\n",
       "      <td>HighestLLSmart</td>\n",
       "      <td>HighestLLSmart</td>\n",
       "      <td>HighestLLSmart</td>\n",
       "    </tr>\n",
       "    <tr>\n",
       "      <th>1</th>\n",
       "      <td>Random</td>\n",
       "      <td>HighestLL</td>\n",
       "      <td>HighestLLSmart</td>\n",
       "      <td>HighestLLSmart</td>\n",
       "      <td>HighestLLSmart</td>\n",
       "      <td>HighestLLSmart</td>\n",
       "    </tr>\n",
       "    <tr>\n",
       "      <th>2</th>\n",
       "      <td>Random</td>\n",
       "      <td>Random</td>\n",
       "      <td>HighestLLSmart</td>\n",
       "      <td>HighestLLSmart</td>\n",
       "      <td>HighestLLSmart</td>\n",
       "      <td>HighestLLSmart</td>\n",
       "    </tr>\n",
       "    <tr>\n",
       "      <th rowspan=\"2\" valign=\"top\">3</th>\n",
       "      <th>0</th>\n",
       "      <td>Random</td>\n",
       "      <td>HighestLLSmart</td>\n",
       "      <td>HighestLLSmart</td>\n",
       "      <td>HighestLLSmart</td>\n",
       "      <td>HighestLLSmart</td>\n",
       "      <td>HighestLLSmart</td>\n",
       "    </tr>\n",
       "    <tr>\n",
       "      <th>1</th>\n",
       "      <td>Random</td>\n",
       "      <td>HighestLL</td>\n",
       "      <td>Random</td>\n",
       "      <td>HighestLLSmart</td>\n",
       "      <td>HighestLLSmart</td>\n",
       "      <td>HighestLLSmart</td>\n",
       "    </tr>\n",
       "    <tr>\n",
       "      <th>4</th>\n",
       "      <th>0</th>\n",
       "      <td>Random</td>\n",
       "      <td>HighestLL</td>\n",
       "      <td>HighestLL</td>\n",
       "      <td>HighestLLSmart</td>\n",
       "      <td>HighestLLSmart</td>\n",
       "      <td>HighestLLSmart</td>\n",
       "    </tr>\n",
       "  </tbody>\n",
       "</table>\n",
       "</div>"
      ],
      "text/plain": [
       "                        Action                                  \\\n",
       "Game State                   0               1               2   \n",
       "# Green # Yellow                                                 \n",
       "0       0         FreshLetters  HighestLLSmart  HighestLLSmart   \n",
       "        1               Random  HighestLLSmart  HighestLLSmart   \n",
       "        2               Random  HighestLLSmart  HighestLLSmart   \n",
       "        3               Random  HighestLLSmart       HighestLL   \n",
       "        4               Random          Random  HighestLLSmart   \n",
       "1       0               Random    FreshLetters  HighestLLSmart   \n",
       "        1               Random  HighestLLSmart  HighestLLSmart   \n",
       "        2               Random  HighestLLSmart  HighestLLSmart   \n",
       "        3               Random       HighestLL  HighestLLSmart   \n",
       "2       0               Random       HighestLL  HighestLLSmart   \n",
       "        1               Random       HighestLL  HighestLLSmart   \n",
       "        2               Random          Random  HighestLLSmart   \n",
       "3       0               Random  HighestLLSmart  HighestLLSmart   \n",
       "        1               Random       HighestLL          Random   \n",
       "4       0               Random       HighestLL       HighestLL   \n",
       "\n",
       "                                                                  \n",
       "Game State                     3               4               5  \n",
       "# Green # Yellow                                                  \n",
       "0       0           FreshLetters          Random       HighestLL  \n",
       "        1           FreshLetters  HighestLLSmart          Random  \n",
       "        2         HighestLLSmart  HighestLLSmart    FreshLetters  \n",
       "        3                 Random    FreshLetters    FreshLetters  \n",
       "        4         HighestLLSmart  HighestLLSmart  HighestLLSmart  \n",
       "1       0           FreshLetters  HighestLLSmart       HighestLL  \n",
       "        1         HighestLLSmart    FreshLetters    FreshLetters  \n",
       "        2         HighestLLSmart  HighestLLSmart  HighestLLSmart  \n",
       "        3         HighestLLSmart  HighestLLSmart  HighestLLSmart  \n",
       "2       0         HighestLLSmart  HighestLLSmart  HighestLLSmart  \n",
       "        1         HighestLLSmart  HighestLLSmart  HighestLLSmart  \n",
       "        2         HighestLLSmart  HighestLLSmart  HighestLLSmart  \n",
       "3       0         HighestLLSmart  HighestLLSmart  HighestLLSmart  \n",
       "        1         HighestLLSmart  HighestLLSmart  HighestLLSmart  \n",
       "4       0         HighestLLSmart  HighestLLSmart  HighestLLSmart  "
      ]
     },
     "execution_count": 16,
     "metadata": {},
     "output_type": "execute_result"
    }
   ],
   "source": [
    "q_table = qmodel.Q\n",
    "actions = pd.DataFrame(columns=['# Green', '# Yellow', 'Game State', 'Action'])\n",
    "print(f'Q values shape: {q_table.shape}') #Num green, Num yellow, game step, action\n",
    "q_actions = np.argmax(q_table, axis=3)\n",
    "for green in range(src_config.WORD_LENGTH):\n",
    "    for yellow in range(src_config.WORD_LENGTH-green):\n",
    "        for state in range(src_config.GAME_LENGTH):\n",
    "            action = qmodel.strategies[q_actions[green, yellow, state]].__class__.__name__[:-8]\n",
    "            actions = actions.append({'# Green': green, '# Yellow': yellow, 'Game State': state, 'Action': action}, ignore_index=True)\n",
    "actions.pivot(index=['# Green', '# Yellow'], columns=['Game State'], values=['Action'])\n",
    "            "
   ]
  },
  {
   "cell_type": "code",
   "execution_count": 17,
   "id": "997c7bd7",
   "metadata": {},
   "outputs": [
    {
     "name": "stdout",
     "output_type": "stream",
     "text": [
      "++++++++++++++++++++++++++++++\n",
      "G W I N E \n",
      "\n",
      "A B C D E F G H I J K L M N O P Q R S T U V W X Y Z \n",
      "==============================\n",
      "\n",
      "++++++++++++++++++++++++++++++\n",
      "G W I N E \n",
      "S I R E S \n",
      "\n",
      "A B C D E F G H I J K L M N O P Q R S T U V W X Y Z \n",
      "==============================\n",
      "\n",
      "++++++++++++++++++++++++++++++\n",
      "G W I N E \n",
      "S I R E S \n",
      "S I N E S \n",
      "\n",
      "A B C D E F G H I J K L M N O P Q R S T U V W X Y Z \n",
      "==============================\n",
      "\n",
      "++++++++++++++++++++++++++++++\n",
      "G W I N E \n",
      "S I R E S \n",
      "S I N E S \n",
      "O U T T A \n",
      "\n",
      "A B C D E F G H I J K L M N O P Q R S T U V W X Y Z \n",
      "==============================\n",
      "\n",
      "++++++++++++++++++++++++++++++\n",
      "G W I N E \n",
      "S I R E S \n",
      "S I N E S \n",
      "O U T T A \n",
      "H Y P H Y \n",
      "\n",
      "A B C D E F G H I J K L M N O P Q R S T U V W X Y Z \n",
      "==============================\n",
      "\n",
      "++++++++++++++++++++++++++++++\n",
      "G W I N E \n",
      "S I R E S \n",
      "S I N E S \n",
      "O U T T A \n",
      "H Y P H Y \n",
      "H Y P H Y \n",
      "\n",
      "A B C D E F G H I J K L M N O P Q R S T U V W X Y Z \n",
      "==============================\n",
      "\n",
      "{'solved': False}\n"
     ]
    }
   ],
   "source": [
    "qmodel.test()"
   ]
  }
 ],
 "metadata": {
  "kernelspec": {
   "display_name": "Python 3 (ipykernel)",
   "language": "python",
   "name": "python3"
  },
  "language_info": {
   "codemirror_mode": {
    "name": "ipython",
    "version": 3
   },
   "file_extension": ".py",
   "mimetype": "text/x-python",
   "name": "python",
   "nbconvert_exporter": "python",
   "pygments_lexer": "ipython3",
   "version": "3.7.9"
  }
 },
 "nbformat": 4,
 "nbformat_minor": 5
}
