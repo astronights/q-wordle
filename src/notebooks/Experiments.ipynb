{
 "cells": [
  {
   "cell_type": "markdown",
   "id": "695aab19",
   "metadata": {},
   "source": [
    "# Wordle Reinforcement Experiments"
   ]
  },
  {
   "cell_type": "markdown",
   "id": "7cab54d3",
   "metadata": {},
   "source": [
    "## Imports and Config"
   ]
  },
  {
   "cell_type": "code",
   "execution_count": 1,
   "id": "1d16b050",
   "metadata": {},
   "outputs": [],
   "source": [
    "import sys\n",
    "sys.path.append('../..')"
   ]
  },
  {
   "cell_type": "code",
   "execution_count": 2,
   "id": "b564ced4",
   "metadata": {},
   "outputs": [],
   "source": [
    "import src.config as src_config\n",
    "from src.models import qlearn, sarsa"
   ]
  },
  {
   "cell_type": "code",
   "execution_count": 3,
   "id": "be78d029",
   "metadata": {},
   "outputs": [],
   "source": [
    "import numpy as np\n",
    "import pandas as pd\n",
    "import matplotlib.pyplot as plt"
   ]
  },
  {
   "cell_type": "markdown",
   "id": "695bcc98",
   "metadata": {},
   "source": [
    "## Config Changes"
   ]
  },
  {
   "cell_type": "code",
   "execution_count": 4,
   "id": "ffe9294d",
   "metadata": {},
   "outputs": [],
   "source": [
    "epsilon = 0.02 #For epsilon greedy learning\n",
    "gamma = 0.05 #Discount factor\n",
    "alpha = 0.02 #Learning rate\n",
    "trials = 100\n",
    "iters = 20"
   ]
  },
  {
   "cell_type": "code",
   "execution_count": 5,
   "id": "8cd8a980",
   "metadata": {},
   "outputs": [],
   "source": [
    "# Rewards\n",
    "\n",
    "src_config.WIN_REWARD = 25\n",
    "src_config.LOSE_REWARD = -15\n",
    "src_config.GREEN_REWARD = 5\n",
    "src_config.YELLOW_REWARD = 3\n",
    "src_config.GREY_REWARD = -1"
   ]
  },
  {
   "cell_type": "markdown",
   "id": "c2f0219a",
   "metadata": {},
   "source": [
    "## Q - Learning"
   ]
  },
  {
   "cell_type": "code",
   "execution_count": 6,
   "id": "64a0fd0f",
   "metadata": {},
   "outputs": [],
   "source": [
    "config = {'epsilon': epsilon, 'gamma': gamma, 'alpha': alpha}\n",
    "model = qlearn.QLearn(config)\n",
    "# model = sarsa.SARSALearn(config)"
   ]
  },
  {
   "cell_type": "code",
   "execution_count": 7,
   "id": "8c1409cc",
   "metadata": {
    "scrolled": false
   },
   "outputs": [
    {
     "name": "stderr",
     "output_type": "stream",
     "text": [
      "100%|█████████████████████████████████████████████████████████████████████████████████████████████| 100/100 [00:46<00:00,  2.17it/s]\n"
     ]
    },
    {
     "name": "stdout",
     "output_type": "stream",
     "text": [
      "Games solved: 31/100\n",
      "Test solved: 0: False\n"
     ]
    },
    {
     "name": "stderr",
     "output_type": "stream",
     "text": [
      "100%|█████████████████████████████████████████████████████████████████████████████████████████████| 100/100 [00:49<00:00,  2.01it/s]\n"
     ]
    },
    {
     "name": "stdout",
     "output_type": "stream",
     "text": [
      "Games solved: 37/100\n",
      "Test solved: 1: True\n"
     ]
    },
    {
     "name": "stderr",
     "output_type": "stream",
     "text": [
      "100%|█████████████████████████████████████████████████████████████████████████████████████████████| 100/100 [01:06<00:00,  1.50it/s]\n"
     ]
    },
    {
     "name": "stdout",
     "output_type": "stream",
     "text": [
      "Games solved: 40/100\n",
      "Test solved: 2: False\n"
     ]
    },
    {
     "name": "stderr",
     "output_type": "stream",
     "text": [
      "100%|█████████████████████████████████████████████████████████████████████████████████████████████| 100/100 [00:59<00:00,  1.69it/s]\n"
     ]
    },
    {
     "name": "stdout",
     "output_type": "stream",
     "text": [
      "Games solved: 50/100\n",
      "Test solved: 3: False\n"
     ]
    },
    {
     "name": "stderr",
     "output_type": "stream",
     "text": [
      "100%|█████████████████████████████████████████████████████████████████████████████████████████████| 100/100 [00:59<00:00,  1.69it/s]\n"
     ]
    },
    {
     "name": "stdout",
     "output_type": "stream",
     "text": [
      "Games solved: 45/100\n",
      "Test solved: 4: False\n"
     ]
    },
    {
     "name": "stderr",
     "output_type": "stream",
     "text": [
      "100%|█████████████████████████████████████████████████████████████████████████████████████████████| 100/100 [00:55<00:00,  1.80it/s]\n"
     ]
    },
    {
     "name": "stdout",
     "output_type": "stream",
     "text": [
      "Games solved: 52/100\n",
      "Test solved: 5: False\n"
     ]
    },
    {
     "name": "stderr",
     "output_type": "stream",
     "text": [
      "100%|█████████████████████████████████████████████████████████████████████████████████████████████| 100/100 [00:27<00:00,  3.63it/s]\n"
     ]
    },
    {
     "name": "stdout",
     "output_type": "stream",
     "text": [
      "Games solved: 41/100\n",
      "Test solved: 6: True\n"
     ]
    },
    {
     "name": "stderr",
     "output_type": "stream",
     "text": [
      "100%|█████████████████████████████████████████████████████████████████████████████████████████████| 100/100 [00:29<00:00,  3.45it/s]\n"
     ]
    },
    {
     "name": "stdout",
     "output_type": "stream",
     "text": [
      "Games solved: 47/100\n",
      "Test solved: 7: False\n"
     ]
    },
    {
     "name": "stderr",
     "output_type": "stream",
     "text": [
      "100%|█████████████████████████████████████████████████████████████████████████████████████████████| 100/100 [00:28<00:00,  3.54it/s]\n"
     ]
    },
    {
     "name": "stdout",
     "output_type": "stream",
     "text": [
      "Games solved: 41/100\n",
      "Test solved: 8: True\n"
     ]
    },
    {
     "name": "stderr",
     "output_type": "stream",
     "text": [
      "100%|█████████████████████████████████████████████████████████████████████████████████████████████| 100/100 [00:29<00:00,  3.35it/s]\n"
     ]
    },
    {
     "name": "stdout",
     "output_type": "stream",
     "text": [
      "Games solved: 31/100\n",
      "Test solved: 9: False\n"
     ]
    },
    {
     "name": "stderr",
     "output_type": "stream",
     "text": [
      "100%|█████████████████████████████████████████████████████████████████████████████████████████████| 100/100 [00:31<00:00,  3.22it/s]\n"
     ]
    },
    {
     "name": "stdout",
     "output_type": "stream",
     "text": [
      "Games solved: 40/100\n",
      "Test solved: 10: False\n"
     ]
    },
    {
     "name": "stderr",
     "output_type": "stream",
     "text": [
      "100%|█████████████████████████████████████████████████████████████████████████████████████████████| 100/100 [00:32<00:00,  3.03it/s]\n"
     ]
    },
    {
     "name": "stdout",
     "output_type": "stream",
     "text": [
      "Games solved: 48/100\n",
      "Test solved: 11: True\n"
     ]
    },
    {
     "name": "stderr",
     "output_type": "stream",
     "text": [
      "100%|█████████████████████████████████████████████████████████████████████████████████████████████| 100/100 [00:33<00:00,  3.00it/s]\n"
     ]
    },
    {
     "name": "stdout",
     "output_type": "stream",
     "text": [
      "Games solved: 44/100\n",
      "Test solved: 12: True\n"
     ]
    },
    {
     "name": "stderr",
     "output_type": "stream",
     "text": [
      "100%|█████████████████████████████████████████████████████████████████████████████████████████████| 100/100 [00:33<00:00,  2.95it/s]\n"
     ]
    },
    {
     "name": "stdout",
     "output_type": "stream",
     "text": [
      "Games solved: 33/100\n",
      "Test solved: 13: True\n"
     ]
    },
    {
     "name": "stderr",
     "output_type": "stream",
     "text": [
      "100%|█████████████████████████████████████████████████████████████████████████████████████████████| 100/100 [00:32<00:00,  3.09it/s]\n"
     ]
    },
    {
     "name": "stdout",
     "output_type": "stream",
     "text": [
      "Games solved: 47/100\n",
      "Test solved: 14: False\n"
     ]
    },
    {
     "name": "stderr",
     "output_type": "stream",
     "text": [
      "100%|█████████████████████████████████████████████████████████████████████████████████████████████| 100/100 [00:37<00:00,  2.70it/s]\n"
     ]
    },
    {
     "name": "stdout",
     "output_type": "stream",
     "text": [
      "Games solved: 39/100\n",
      "Test solved: 15: True\n"
     ]
    },
    {
     "name": "stderr",
     "output_type": "stream",
     "text": [
      "100%|█████████████████████████████████████████████████████████████████████████████████████████████| 100/100 [00:34<00:00,  2.89it/s]\n"
     ]
    },
    {
     "name": "stdout",
     "output_type": "stream",
     "text": [
      "Games solved: 42/100\n",
      "Test solved: 16: True\n"
     ]
    },
    {
     "name": "stderr",
     "output_type": "stream",
     "text": [
      "100%|█████████████████████████████████████████████████████████████████████████████████████████████| 100/100 [00:33<00:00,  3.03it/s]\n"
     ]
    },
    {
     "name": "stdout",
     "output_type": "stream",
     "text": [
      "Games solved: 53/100\n",
      "Test solved: 17: False\n"
     ]
    },
    {
     "name": "stderr",
     "output_type": "stream",
     "text": [
      "100%|█████████████████████████████████████████████████████████████████████████████████████████████| 100/100 [00:33<00:00,  3.00it/s]\n"
     ]
    },
    {
     "name": "stdout",
     "output_type": "stream",
     "text": [
      "Games solved: 38/100\n",
      "Test solved: 18: True\n"
     ]
    },
    {
     "name": "stderr",
     "output_type": "stream",
     "text": [
      "100%|█████████████████████████████████████████████████████████████████████████████████████████████| 100/100 [00:34<00:00,  2.92it/s]\n"
     ]
    },
    {
     "name": "stdout",
     "output_type": "stream",
     "text": [
      "Games solved: 51/100\n",
      "Test solved: 19: False\n"
     ]
    }
   ],
   "source": [
    "train_solves = []\n",
    "test_solves = []\n",
    "for i in range(iters):\n",
    "    model.train(trials)\n",
    "    updated_q_config = dict(list(config.items()) + list({'Q': model.Q}.items()))\n",
    "    train_solves.append(len(model.games_solved))\n",
    "    res = model.test(verbose=False)\n",
    "    print(f'Games solved: {len(model.games_solved)}/{trials}')\n",
    "    print(f'Test solved: {i}: {res[\"solved\"]}')\n",
    "    if(res['solved']):\n",
    "        test_solves.append(i)"
   ]
  },
  {
   "cell_type": "code",
   "execution_count": 8,
   "id": "4684d4a2",
   "metadata": {
    "scrolled": true
   },
   "outputs": [
    {
     "data": {
      "text/plain": [
       "Text(0.5, 1.0, 'Test Games solved: 9/20')"
      ]
     },
     "execution_count": 8,
     "metadata": {},
     "output_type": "execute_result"
    },
    {
     "data": {
      "image/png": "[encoded data removed]",
      "text/plain": [
       "<Figure size 720x288 with 2 Axes>"
      ]
     },
     "metadata": {
      "needs_background": "light"
     },
     "output_type": "display_data"
    }
   ],
   "source": [
    "fig, axs = plt.subplots(1, 2, figsize=(10, 4))\n",
    "\n",
    "axs[0].plot(list(range(len(train_solves))), train_solves)\n",
    "axs[0].set_title(f'Average Train Games Solved: {sum(train_solves)/iters}')\n",
    "axs[1].plot(list(range(len(test_solves))), test_solves)\n",
    "axs[1].set_title(f'Test Games solved: {len(test_solves)}/{iters}')"
   ]
  },
  {
   "cell_type": "code",
   "execution_count": 10,
   "id": "983e81ea",
   "metadata": {
    "scrolled": false
   },
   "outputs": [
    {
     "name": "stdout",
     "output_type": "stream",
     "text": [
      "Q values shape: (6, 6, 7, 3)\n"
     ]
    },
    {
     "data": {
      "text/html": [
       "<div>\n",
       "<style scoped>\n",
       "    .dataframe tbody tr th:only-of-type {\n",
       "        vertical-align: middle;\n",
       "    }\n",
       "\n",
       "    .dataframe tbody tr th {\n",
       "        vertical-align: top;\n",
       "    }\n",
       "\n",
       "    .dataframe thead tr th {\n",
       "        text-align: left;\n",
       "    }\n",
       "\n",
       "    .dataframe thead tr:last-of-type th {\n",
       "        text-align: right;\n",
       "    }\n",
       "</style>\n",
       "<table border=\"1\" class=\"dataframe\">\n",
       "  <thead>\n",
       "    <tr>\n",
       "      <th></th>\n",
       "      <th></th>\n",
       "      <th colspan=\"6\" halign=\"left\">Action</th>\n",
       "    </tr>\n",
       "    <tr>\n",
       "      <th></th>\n",
       "      <th>Game State</th>\n",
       "      <th>0</th>\n",
       "      <th>1</th>\n",
       "      <th>2</th>\n",
       "      <th>3</th>\n",
       "      <th>4</th>\n",
       "      <th>5</th>\n",
       "    </tr>\n",
       "    <tr>\n",
       "      <th># Green</th>\n",
       "      <th># Yellow</th>\n",
       "      <th></th>\n",
       "      <th></th>\n",
       "      <th></th>\n",
       "      <th></th>\n",
       "      <th></th>\n",
       "      <th></th>\n",
       "    </tr>\n",
       "  </thead>\n",
       "  <tbody>\n",
       "    <tr>\n",
       "      <th rowspan=\"5\" valign=\"top\">0</th>\n",
       "      <th>0</th>\n",
       "      <td>HighestLL</td>\n",
       "      <td>HighestLL</td>\n",
       "      <td>HighestLL</td>\n",
       "      <td>HighestLL</td>\n",
       "      <td>HighestLL</td>\n",
       "      <td>HighestLL</td>\n",
       "    </tr>\n",
       "    <tr>\n",
       "      <th>1</th>\n",
       "      <td>HighestLL</td>\n",
       "      <td>HighestLL</td>\n",
       "      <td>HighestLL</td>\n",
       "      <td>HighestLL</td>\n",
       "      <td>HighestLL</td>\n",
       "      <td>HighestLL</td>\n",
       "    </tr>\n",
       "    <tr>\n",
       "      <th>2</th>\n",
       "      <td>HighestLL</td>\n",
       "      <td>FreshLetters</td>\n",
       "      <td>HighestLL</td>\n",
       "      <td>HighestLL</td>\n",
       "      <td>HighestLL</td>\n",
       "      <td>HighestLL</td>\n",
       "    </tr>\n",
       "    <tr>\n",
       "      <th>3</th>\n",
       "      <td>HighestLL</td>\n",
       "      <td>HighestLL</td>\n",
       "      <td>HighestLL</td>\n",
       "      <td>HighestLL</td>\n",
       "      <td>HighestLL</td>\n",
       "      <td>FreshLetters</td>\n",
       "    </tr>\n",
       "    <tr>\n",
       "      <th>4</th>\n",
       "      <td>HighestLL</td>\n",
       "      <td>HighestLL</td>\n",
       "      <td>HighestLL</td>\n",
       "      <td>HighestLL</td>\n",
       "      <td>FreshLetters</td>\n",
       "      <td>HighestLLSmart</td>\n",
       "    </tr>\n",
       "    <tr>\n",
       "      <th rowspan=\"4\" valign=\"top\">1</th>\n",
       "      <th>0</th>\n",
       "      <td>HighestLL</td>\n",
       "      <td>HighestLL</td>\n",
       "      <td>HighestLL</td>\n",
       "      <td>HighestLL</td>\n",
       "      <td>HighestLL</td>\n",
       "      <td>FreshLetters</td>\n",
       "    </tr>\n",
       "    <tr>\n",
       "      <th>1</th>\n",
       "      <td>HighestLL</td>\n",
       "      <td>HighestLL</td>\n",
       "      <td>HighestLL</td>\n",
       "      <td>HighestLL</td>\n",
       "      <td>HighestLL</td>\n",
       "      <td>FreshLetters</td>\n",
       "    </tr>\n",
       "    <tr>\n",
       "      <th>2</th>\n",
       "      <td>HighestLL</td>\n",
       "      <td>HighestLL</td>\n",
       "      <td>HighestLL</td>\n",
       "      <td>HighestLL</td>\n",
       "      <td>HighestLL</td>\n",
       "      <td>HighestLLSmart</td>\n",
       "    </tr>\n",
       "    <tr>\n",
       "      <th>3</th>\n",
       "      <td>HighestLL</td>\n",
       "      <td>HighestLL</td>\n",
       "      <td>HighestLL</td>\n",
       "      <td>HighestLL</td>\n",
       "      <td>HighestLL</td>\n",
       "      <td>HighestLLSmart</td>\n",
       "    </tr>\n",
       "    <tr>\n",
       "      <th rowspan=\"3\" valign=\"top\">2</th>\n",
       "      <th>0</th>\n",
       "      <td>HighestLL</td>\n",
       "      <td>HighestLL</td>\n",
       "      <td>HighestLL</td>\n",
       "      <td>HighestLL</td>\n",
       "      <td>HighestLL</td>\n",
       "      <td>HighestLL</td>\n",
       "    </tr>\n",
       "    <tr>\n",
       "      <th>1</th>\n",
       "      <td>HighestLL</td>\n",
       "      <td>HighestLL</td>\n",
       "      <td>HighestLL</td>\n",
       "      <td>HighestLL</td>\n",
       "      <td>HighestLL</td>\n",
       "      <td>FreshLetters</td>\n",
       "    </tr>\n",
       "    <tr>\n",
       "      <th>2</th>\n",
       "      <td>HighestLL</td>\n",
       "      <td>HighestLL</td>\n",
       "      <td>HighestLL</td>\n",
       "      <td>HighestLLSmart</td>\n",
       "      <td>HighestLL</td>\n",
       "      <td>HighestLLSmart</td>\n",
       "    </tr>\n",
       "    <tr>\n",
       "      <th rowspan=\"2\" valign=\"top\">3</th>\n",
       "      <th>0</th>\n",
       "      <td>HighestLL</td>\n",
       "      <td>HighestLL</td>\n",
       "      <td>HighestLL</td>\n",
       "      <td>HighestLL</td>\n",
       "      <td>HighestLL</td>\n",
       "      <td>FreshLetters</td>\n",
       "    </tr>\n",
       "    <tr>\n",
       "      <th>1</th>\n",
       "      <td>HighestLL</td>\n",
       "      <td>HighestLL</td>\n",
       "      <td>HighestLL</td>\n",
       "      <td>HighestLL</td>\n",
       "      <td>HighestLL</td>\n",
       "      <td>HighestLLSmart</td>\n",
       "    </tr>\n",
       "    <tr>\n",
       "      <th>4</th>\n",
       "      <th>0</th>\n",
       "      <td>HighestLL</td>\n",
       "      <td>HighestLL</td>\n",
       "      <td>HighestLL</td>\n",
       "      <td>HighestLL</td>\n",
       "      <td>HighestLL</td>\n",
       "      <td>HighestLLSmart</td>\n",
       "    </tr>\n",
       "  </tbody>\n",
       "</table>\n",
       "</div>"
      ],
      "text/plain": [
       "                     Action                                           \\\n",
       "Game State                0             1          2               3   \n",
       "# Green # Yellow                                                       \n",
       "0       0         HighestLL     HighestLL  HighestLL       HighestLL   \n",
       "        1         HighestLL     HighestLL  HighestLL       HighestLL   \n",
       "        2         HighestLL  FreshLetters  HighestLL       HighestLL   \n",
       "        3         HighestLL     HighestLL  HighestLL       HighestLL   \n",
       "        4         HighestLL     HighestLL  HighestLL       HighestLL   \n",
       "1       0         HighestLL     HighestLL  HighestLL       HighestLL   \n",
       "        1         HighestLL     HighestLL  HighestLL       HighestLL   \n",
       "        2         HighestLL     HighestLL  HighestLL       HighestLL   \n",
       "        3         HighestLL     HighestLL  HighestLL       HighestLL   \n",
       "2       0         HighestLL     HighestLL  HighestLL       HighestLL   \n",
       "        1         HighestLL     HighestLL  HighestLL       HighestLL   \n",
       "        2         HighestLL     HighestLL  HighestLL  HighestLLSmart   \n",
       "3       0         HighestLL     HighestLL  HighestLL       HighestLL   \n",
       "        1         HighestLL     HighestLL  HighestLL       HighestLL   \n",
       "4       0         HighestLL     HighestLL  HighestLL       HighestLL   \n",
       "\n",
       "                                                \n",
       "Game State                   4               5  \n",
       "# Green # Yellow                                \n",
       "0       0            HighestLL       HighestLL  \n",
       "        1            HighestLL       HighestLL  \n",
       "        2            HighestLL       HighestLL  \n",
       "        3            HighestLL    FreshLetters  \n",
       "        4         FreshLetters  HighestLLSmart  \n",
       "1       0            HighestLL    FreshLetters  \n",
       "        1            HighestLL    FreshLetters  \n",
       "        2            HighestLL  HighestLLSmart  \n",
       "        3            HighestLL  HighestLLSmart  \n",
       "2       0            HighestLL       HighestLL  \n",
       "        1            HighestLL    FreshLetters  \n",
       "        2            HighestLL  HighestLLSmart  \n",
       "3       0            HighestLL    FreshLetters  \n",
       "        1            HighestLL  HighestLLSmart  \n",
       "4       0            HighestLL  HighestLLSmart  "
      ]
     },
     "execution_count": 10,
     "metadata": {},
     "output_type": "execute_result"
    }
   ],
   "source": [
    "q_table = model.Q\n",
    "actions = pd.DataFrame(columns=['# Green', '# Yellow', 'Game State', 'Action'])\n",
    "print(f'Q values shape: {q_table.shape}') #Num green, Num yellow, game step, action\n",
    "q_actions = np.argmax(q_table, axis=3)\n",
    "for green in range(src_config.WORD_LENGTH):\n",
    "    for yellow in range(src_config.WORD_LENGTH-green):\n",
    "        for state in range(src_config.GAME_LENGTH):\n",
    "            action = model.strategies[q_actions[green, yellow, state]].__class__.__name__[:-8]\n",
    "            actions = actions.append({'# Green': green, '# Yellow': yellow, 'Game State': state, 'Action': action}, ignore_index=True)\n",
    "actions.pivot(index=['# Green', '# Yellow'], columns=['Game State'], values=['Action'])\n",
    "            "
   ]
  },
  {
   "cell_type": "code",
   "execution_count": 16,
   "id": "997c7bd7",
   "metadata": {
    "scrolled": false
   },
   "outputs": [
    {
     "name": "stdout",
     "output_type": "stream",
     "text": [
      "++++++++++++++++++++++++++++++\n",
      "Solution: taper\n",
      "B R A C E \n",
      "\n",
      "A B C D E F G H I J K L M N O P Q R S T U V W X Y Z \n",
      "==============================\n",
      "\n",
      "++++++++++++++++++++++++++++++\n",
      "Solution: taper\n",
      "B R A C E \n",
      "B E A N S \n",
      "\n",
      "A B C D E F G H I J K L M N O P Q R S T U V W X Y Z \n",
      "==============================\n",
      "\n",
      "++++++++++++++++++++++++++++++\n",
      "Solution: taper\n",
      "B R A C E \n",
      "B E A N S \n",
      "K U L F I \n",
      "\n",
      "A B C D E F G H I J K L M N O P Q R S T U V W X Y Z \n",
      "==============================\n",
      "\n",
      "++++++++++++++++++++++++++++++\n",
      "Solution: taper\n",
      "B R A C E \n",
      "B E A N S \n",
      "K U L F I \n",
      "C A R E S \n",
      "\n",
      "A B C D E F G H I J K L M N O P Q R S T U V W X Y Z \n",
      "==============================\n",
      "\n",
      "++++++++++++++++++++++++++++++\n",
      "Solution: taper\n",
      "B R A C E \n",
      "B E A N S \n",
      "K U L F I \n",
      "C A R E S \n",
      "R A L E S \n",
      "\n",
      "A B C D E F G H I J K L M N O P Q R S T U V W X Y Z \n",
      "==============================\n",
      "\n",
      "++++++++++++++++++++++++++++++\n",
      "Solution: taper\n",
      "B R A C E \n",
      "B E A N S \n",
      "K U L F I \n",
      "C A R E S \n",
      "R A L E S \n",
      "S A N E R \n",
      "\n",
      "A B C D E F G H I J K L M N O P Q R S T U V W X Y Z \n",
      "==============================\n",
      "\n",
      "{'solved': False}\n"
     ]
    }
   ],
   "source": [
    "model.test()"
   ]
  }
 ],
 "metadata": {
  "kernelspec": {
   "display_name": "Python 3 (ipykernel)",
   "language": "python",
   "name": "python3"
  },
  "language_info": {
   "codemirror_mode": {
    "name": "ipython",
    "version": 3
   },
   "file_extension": ".py",
   "mimetype": "text/x-python",
   "name": "python",
   "nbconvert_exporter": "python",
   "pygments_lexer": "ipython3",
   "version": "3.7.9"
  }
 },
 "nbformat": 4,
 "nbformat_minor": 5
}
